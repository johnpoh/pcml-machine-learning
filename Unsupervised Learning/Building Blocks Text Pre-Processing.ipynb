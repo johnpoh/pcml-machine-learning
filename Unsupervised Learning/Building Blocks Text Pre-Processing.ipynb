{
 "cells": [
  {
   "cell_type": "markdown",
   "metadata": {},
   "source": [
    "## Building Blocks: Text Pre-Processing\n",
    "\n",
    "This article is the second of more to come articles on Natural Language Processing. The purpose of this series of articles is to document my journey as I learn about this subject, as well as help others gain efficiency from it.\n",
    "\n",
    "In the last article of our series, we introduced the concept of Natural Language Processing, you can read it here, and now you probably want to try it yourself, right? Great! Without further ado, let's dive in to the building blocks for statistical natural language processing. \n",
    "\n",
    "In this article, we'll introduce the key concepts, along with practical implementation in Python and the challenges to keep in mind at the time of application.\n",
    "** **"
   ]
  },
  {
   "cell_type": "markdown",
   "metadata": {},
   "source": [
    "### Text Normalization\n",
    "\n",
    "Normalizing the text means converting it to a more convenient, standard form before performing turning it to features for higher level modeling. Think of this step as converting human readable language into a form that is machine readable.\n",
    "\n",
    "The standard framework to normalize the text includes:\n",
    "1. Tokenization\n",
    "2. Stop Words Removal\n",
    "3. Morphological Normalization\n",
    "4. Collocation\n",
    "\n",
    "Data preprocessing consists of a number of steps, any number of which may or not apply to a given task. More generally, in this article we'll discuss some predetermined body of text, and perform some basic transformative analysis that can be used for performing further, more meaningful natural language processing\n",
    "\n",
    "** **\n",
    "#### Tokenization\n",
    "\n",
    "Given a character sequence and a defined document unit (blurb of texts), tokenization is the task of chopping it up into pieces, called tokens, perhaps at the same time throwing away certain characters/words, such as punctuation. Ordinarily, there are two types of tokenization:\n",
    "\n",
    "1. Word Tokenization: Used to separate words via unique space character. Depending on the application, word tokenization may also tokenize multi-word expressions like New York. This is often times is closely tied to a process called Named Entity Recognition. Later in this tutorial, we will look at Collocation (Phrase) Modeling that helps address part of this challenge\n",
    "\n",
    "2. Sentence Tokenization/Segmentation: Along with word tokenization, sentence segmentation is a crucial step in text processing. This is usually performed based on punctuations such as \".\", \"?\", \"!\" as they tend to mark the sentence boundaries\n",
    "\n",
    "**Challenges:**\n",
    "- The use of abbreviations may prompt the tokenizer to detect a sentence boundary where there is none. \n",
    "- Numbers, special characters, hyphenation, and capitalization. In the expressions \"don't,\" \"I'd,\" \"John's\" do we have one, two or three tokens?"
   ]
  },
  {
   "cell_type": "code",
   "execution_count": 1,
   "metadata": {},
   "outputs": [
    {
     "name": "stdout",
     "output_type": "stream",
     "text": [
      "Following is the list of sentences tokenized from the sample review\n",
      "\n",
      "['The first time I ate here I honestly was not that impressed.', 'I decided to wait a bit and give it another chance.', 'I have recently eaten there a couple of times and although I am not convinced that the pricing is particularly on point the two mushroom and \\nswiss burgers I had were honestly very good.', 'The shakes were also tasty.', 'Although Mad Mikes is still my favorite burger around, \\nyou can do a heck of a lot worse than Smashburger if you get a craving']\n",
      "---------------------------------------------------------\n",
      "\n",
      "Following is the list of words tokenized from the sample review sentence\n",
      "\n",
      "['I', 'decided', 'to', 'wait', 'a', 'bit', 'and', 'give', 'it', 'another', 'chance', '.']\n"
     ]
    }
   ],
   "source": [
    "from nltk.tokenize import sent_tokenize, word_tokenize\n",
    "\n",
    "#Sentence Tokenization\n",
    "print ('Following is the list of sentences tokenized from the sample review\\n')\n",
    "\n",
    "sample_text = \"\"\"The first time I ate here I honestly was not that impressed. I decided to wait a bit and give it another chance. \n",
    "I have recently eaten there a couple of times and although I am not convinced that the pricing is particularly on point the two mushroom and \n",
    "swiss burgers I had were honestly very good. The shakes were also tasty. Although Mad Mikes is still my favorite burger around, \n",
    "you can do a heck of a lot worse than Smashburger if you get a craving\"\"\"\n",
    "\n",
    "tokenize_sentence = sent_tokenize(sample_text)\n",
    "\n",
    "print (tokenize_sentence)\n",
    "print ('---------------------------------------------------------\\n')\n",
    "print ('Following is the list of words tokenized from the sample review sentence\\n')\n",
    "tokenize_words = word_tokenize(tokenize_sentence[1])\n",
    "print (tokenize_words)"
   ]
  },
  {
   "cell_type": "markdown",
   "metadata": {},
   "source": [
    "** **\n",
    "#### Stop Words Removal\n",
    "Often, there are a few ubiquitous words which would appear to be of little value in helping the purpose of analysis but increases the dimensionality of feature set, are excluded from the vocabulary entirely as the part of stop words removal process. There are two considerations usually that motivate this removal.\n",
    "\n",
    "1. Irrelevance: Allows one to analyze only on content-bearing words. Stopwords, also called empty words because they generally do not bear much meaning, introduce noise in the analysis/modeling process\n",
    "2. Dimension: Removing the stopwords also allows one to reduce the tokens in documents significantly, and thereby decreasing feature dimension\n",
    "\n",
    "**Challenges:**\n",
    "\n",
    "Converting all characters into lowercase letters before stopwords removal process can introduce ambiguity in the text, and sometimes entirely changing the meaning of it. For example, with the expressions \"US citizen\" will be viewed as \"us citizen\" or \"IT scientist\" as \"it scientist\". Since both *us* and *it* are normally considered stop words, it would result in an inaccurate outcome. The strategy regarding the treatment of stopwords can thus be refined by identifying that \"US\" and \"IT\" are not pronouns in the above examples, through a part-of-speech tagging step."
   ]
  },
  {
   "cell_type": "code",
   "execution_count": 2,
   "metadata": {},
   "outputs": [
    {
     "name": "stdout",
     "output_type": "stream",
     "text": [
      "179 stop words\n",
      "\n",
      "Original Text:\n",
      "------------------\n",
      "\n",
      "The first time I ate here I honestly was not that impressed. I decided to wait a bit and give it another chance. \n",
      "I have recently eaten there a couple of times and although I am not convinced that the pricing is particularly on point the two mushroom and \n",
      "swiss burgers I had were honestly very good. The shakes were also tasty. Although Mad Mikes is still my favorite burger around, \n",
      "you can do a heck of a lot worse than Smashburger if you get a craving\n",
      "\n",
      " Filtered Text:\n",
      "------------------\n",
      "\n",
      "The first time I ate I honestly impressed . I decided wait bit give another chance . I recently eaten couple times although I convinced pricing particularly point two mushroom swiss burgers I honestly good . The shakes also tasty . Although Mad Mikes still favorite burger around , heck lot worse Smashburger get craving\n"
     ]
    }
   ],
   "source": [
    "from nltk.corpus import stopwords\n",
    "from nltk.tokenize import word_tokenize\n",
    "\n",
    "# define the language for stopwords removal\n",
    "stopwords = set(stopwords.words(\"english\"))\n",
    "print (\"\"\"{0} stop words\"\"\".format(len(stopwords)))\n",
    "\n",
    "tokenize_words = word_tokenize(sample_text)\n",
    "filtered_sample_text = [w for w in tokenize_words if not w in stopwords]\n",
    "\n",
    "print ('\\nOriginal Text:')\n",
    "print ('------------------\\n')\n",
    "print (sample_text)\n",
    "print ('\\n Filtered Text:')\n",
    "print ('------------------\\n')\n",
    "print (' '.join(str(token) for token in filtered_sample_text))"
   ]
  },
  {
   "cell_type": "markdown",
   "metadata": {},
   "source": [
    "** **\n",
    "#### Morphological Normalization\n",
    "Morphology, in general, is the study of the way words are built up from smaller meaning-bearing units, morphomes. For example, dogs consists of two morphemes: dog and s\n",
    "\n",
    "Two commonly used techniques for text normalization are:\n",
    "\n",
    "1. Stemming: The procedure aims to identify the stem of a word and use it in lieu of the word itself. The most popular algorithm for stemming English, and one that has repeatedly been shown to be empirically very effective, is Porter's algorithm. The entire algorithm is too long and intricate to present here, but you can find details here\n",
    "2. Lemmatization: This process refers to doing things correctly with the use of vocabulary and morphological analysis of words, typically aiming to remove inflectional endings only and to return the base or dictionary form of a word, which is known as the lemma.\n",
    "\n",
    "If confronted with the token saw, stemming might return just s, whereas lemmatization would attempt to return either see or saw depending on whether the use of the token was as a verb or a noun"
   ]
  },
  {
   "cell_type": "code",
   "execution_count": 3,
   "metadata": {},
   "outputs": [
    {
     "name": "stdout",
     "output_type": "stream",
     "text": [
      "\n",
      "Original Text:\n",
      "------------------\n",
      "\n",
      "The first time I ate here I honestly was not that impressed. I decided to wait a bit and give it another chance. \n",
      "I have recently eaten there a couple of times and although I am not convinced that the pricing is particularly on point the two mushroom and \n",
      "swiss burgers I had were honestly very good. The shakes were also tasty. Although Mad Mikes is still my favorite burger around, \n",
      "you can do a heck of a lot worse than Smashburger if you get a craving\n",
      "\n",
      "Filtered Text: Stemming\n",
      "------------------\n",
      "\n",
      "the first time I ate here I honestli wa not that impress . I decid to wait a bit and give it anoth chanc . I have recent eaten there a coupl of time and although I am not convinc that the price is particularli on point the two mushroom and swiss burger I had were honestli veri good . the shake were also tasti . although mad mike is still my favorit burger around , you can do a heck of a lot wors than smashburg if you get a crave\n",
      "\n",
      "Filtered Text: Lemmatization\n",
      "--------------------------------\n",
      "\n",
      "The first time I ate here I honestly wa not that impressed . I decided to wait a bit and give it another chance . I have recently eaten there a couple of time and although I am not convinced that the pricing is particularly on point the two mushroom and swiss burger I had were honestly very good . The shake were also tasty . Although Mad Mikes is still my favorite burger around , you can do a heck of a lot worse than Smashburger if you get a craving\n"
     ]
    }
   ],
   "source": [
    "from nltk.stem import PorterStemmer\n",
    "from nltk.stem import WordNetLemmatizer\n",
    "from nltk.tokenize import word_tokenize\n",
    "\n",
    "ps = PorterStemmer()\n",
    "lemmatizer = WordNetLemmatizer()\n",
    "\n",
    "tokenize_words = word_tokenize(sample_text)\n",
    "\n",
    "stemmed_sample_text = []\n",
    "for token in tokenize_words:\n",
    "    stemmed_sample_text.append(ps.stem(token))\n",
    "\n",
    "lemma_sample_text = []\n",
    "for token in tokenize_words:\n",
    "    lemma_sample_text.append(lemmatizer.lemmatize(token))\n",
    "    \n",
    "print ('\\nOriginal Text:')\n",
    "print ('------------------\\n')\n",
    "print (sample_text)\n",
    "\n",
    "print ('\\nFiltered Text: Stemming')\n",
    "print ('------------------\\n')\n",
    "print (' '.join(str(token) for token in stemmed_sample_text))\n",
    "\n",
    "print ('\\nFiltered Text: Lemmatization')\n",
    "print ('--------------------------------\\n')\n",
    "print (' '.join(str(token) for token in lemma_sample_text))"
   ]
  },
  {
   "cell_type": "markdown",
   "metadata": {},
   "source": [
    "** **\n",
    "**Challenges:**\n",
    "\n",
    "Often, full morphological analysis produces at most very modest benefits for analysis. Neither form of normalization improve language information performance in aggregate, both from relevance and dimensionality reduction standpoint - at least not for the following situations:"
   ]
  },
  {
   "cell_type": "code",
   "execution_count": 4,
   "metadata": {},
   "outputs": [
    {
     "name": "stdout",
     "output_type": "stream",
     "text": [
      "oper\n",
      "oper\n",
      "oper\n",
      "oper\n",
      "oper\n",
      "oper\n",
      "oper\n"
     ]
    }
   ],
   "source": [
    "from nltk.stem import PorterStemmer\n",
    "words = [\"operate\", \"operating\", \"operates\", \"operation\", \"operative\", \"operatives\", \"operational\"]\n",
    "\n",
    "ps = PorterStemmer()\n",
    "\n",
    "for token in words:\n",
    "    print (ps.stem(token))"
   ]
  },
  {
   "cell_type": "markdown",
   "metadata": {},
   "source": [
    "** **\n",
    "As an example of what can go wrong, note that the Porter stemmer stems all of the following words to oper\n",
    "However, since operate in its various forms is a common verb, we would expect to lose considerable precision:\n",
    "- operational AND research\n",
    "- operating AND system\n",
    "- operative AND dentistry\n",
    "\n",
    "For cases like these, moving to using a lemmatizer would not completely fix the problem because particular inflectional forms are used in specific collocations. Getting better value from term normalization depends more on pragmatic issues of word use than on formal issues of linguistic morphology"
   ]
  }
 ],
 "metadata": {
  "kernelspec": {
   "display_name": "Python 2",
   "language": "python",
   "name": "python2"
  },
  "language_info": {
   "codemirror_mode": {
    "name": "ipython",
    "version": 2
   },
   "file_extension": ".py",
   "mimetype": "text/x-python",
   "name": "python",
   "nbconvert_exporter": "python",
   "pygments_lexer": "ipython2",
   "version": "2.7.15"
  }
 },
 "nbformat": 4,
 "nbformat_minor": 2
}
